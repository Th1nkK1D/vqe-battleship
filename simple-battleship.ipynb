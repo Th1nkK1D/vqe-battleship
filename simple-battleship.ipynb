{
 "cells": [
  {
   "cell_type": "markdown",
   "metadata": {},
   "source": [
    "# Simple Battleship VQE\n",
    "\n",
    "This notebook demonstrate how to use VQE to solve simple battleship puzzle using Qiskit"
   ]
  },
  {
   "cell_type": "markdown",
   "metadata": {},
   "source": [
    "## 1. Initialize Battleship"
   ]
  },
  {
   "cell_type": "code",
   "execution_count": 1,
   "metadata": {},
   "outputs": [],
   "source": [
    "from battleship import Battleship"
   ]
  },
  {
   "cell_type": "code",
   "execution_count": 2,
   "metadata": {},
   "outputs": [],
   "source": [
    "bs = Battleship([2, 1], [1, 2])"
   ]
  },
  {
   "cell_type": "code",
   "execution_count": 3,
   "metadata": {},
   "outputs": [
    {
     "name": "stdout",
     "output_type": "stream",
     "text": [
      "Simple Battleship\n",
      "size: 2 x 2 \n",
      "\n",
      "|   |   | 2\n",
      "|   |   | 1\n",
      "  1   2   \n"
     ]
    }
   ],
   "source": [
    "bs.draw()"
   ]
  },
  {
   "cell_type": "markdown",
   "metadata": {},
   "source": [
    "## 2. Get Qubit Operations"
   ]
  },
  {
   "cell_type": "code",
   "execution_count": 4,
   "metadata": {},
   "outputs": [],
   "source": [
    "qubitOps, shift = bs.getQubitOps()"
   ]
  },
  {
   "cell_type": "code",
   "execution_count": 5,
   "metadata": {},
   "outputs": [
    {
     "name": "stdout",
     "output_type": "stream",
     "text": [
      "IIIZ\t1.0\n",
      "IIZI\t2.0\n",
      "IZII\t0.0\n",
      "ZIII\t1.0\n",
      "IIZZ\t0.5\n",
      "ZZII\t0.5\n",
      "IZIZ\t0.5\n",
      "ZIZI\t0.5\n",
      "\n",
      "shift: 4.0\n"
     ]
    }
   ],
   "source": [
    "print(qubitOps.print_operators())\n",
    "print('shift:', shift)"
   ]
  },
  {
   "cell_type": "markdown",
   "metadata": {},
   "source": [
    "## 3. Init Qiskit VQE "
   ]
  },
  {
   "cell_type": "code",
   "execution_count": 6,
   "metadata": {},
   "outputs": [],
   "source": [
    "from qiskit.aqua.components.optimizers import SPSA\n",
    "from qiskit.aqua.components.variational_forms import RY\n",
    "from vqe import VQEWithHistory"
   ]
  },
  {
   "cell_type": "code",
   "execution_count": 7,
   "metadata": {},
   "outputs": [],
   "source": [
    "spsa = SPSA(max_trials=300)\n",
    "ry = RY(qubitOps.num_qubits, depth=1, entanglement='linear')\n",
    "vqe = VQEWithHistory(qubitOps, ry, spsa, 'paulis')"
   ]
  },
  {
   "cell_type": "markdown",
   "metadata": {},
   "source": [
    "## 4. Run Simulation"
   ]
  },
  {
   "cell_type": "code",
   "execution_count": 8,
   "metadata": {},
   "outputs": [],
   "source": [
    "from qiskit import BasicAer\n",
    "from qiskit.aqua import QuantumInstance"
   ]
  },
  {
   "cell_type": "code",
   "execution_count": 9,
   "metadata": {},
   "outputs": [],
   "source": [
    "quantum_instance = QuantumInstance(BasicAer.get_backend('qasm_simulator'))\n",
    "result, history = vqe.run(quantum_instance)"
   ]
  },
  {
   "cell_type": "code",
   "execution_count": 10,
   "metadata": {},
   "outputs": [
    {
     "data": {
      "text/plain": [
       "{'num_optimizer_evals': None,\n",
       " 'min_val': -4.0,\n",
       " 'opt_params': array([-3.14416218e+00,  2.13470525e+00,  2.07410920e-03, -9.72923801e-01,\n",
       "        -1.73383156e-03, -1.00564210e+00,  1.11419670e-02, -2.16867427e+00]),\n",
       " 'eval_time': 118.96605682373047,\n",
       " 'eval_count': 651,\n",
       " 'energy': -4.0,\n",
       " 'eigvals': array([-4.]),\n",
       " 'min_vector': {'1011': 1024},\n",
       " 'eigvecs': array([{'1011': 1024}], dtype=object)}"
      ]
     },
     "execution_count": 10,
     "metadata": {},
     "output_type": "execute_result"
    }
   ],
   "source": [
    "result"
   ]
  },
  {
   "cell_type": "code",
   "execution_count": 11,
   "metadata": {},
   "outputs": [
    {
     "data": {
      "text/plain": [
       "651"
      ]
     },
     "execution_count": 11,
     "metadata": {},
     "output_type": "execute_result"
    }
   ],
   "source": [
    "len(history)"
   ]
  },
  {
   "cell_type": "markdown",
   "metadata": {},
   "source": [
    "## 5. Analyse the Result"
   ]
  },
  {
   "cell_type": "code",
   "execution_count": 22,
   "metadata": {},
   "outputs": [],
   "source": [
    "from helpers import printResultSummary, getSolutionFromResult, plotEnergyHistory"
   ]
  },
  {
   "cell_type": "code",
   "execution_count": 20,
   "metadata": {},
   "outputs": [
    {
     "name": "stdout",
     "output_type": "stream",
     "text": [
      "VQE Result\n",
      "- Running time: 118.97 sec\n",
      "- Evaluation count: 651\n",
      "- Final energy: 0.0\n",
      "- Solution: 1011\n"
     ]
    }
   ],
   "source": [
    "printResultSummary(result, shift)"
   ]
  },
  {
   "cell_type": "code",
   "execution_count": 21,
   "metadata": {},
   "outputs": [
    {
     "name": "stdout",
     "output_type": "stream",
     "text": [
      "Simple Battleship\n",
      "size: 2 x 2 \n",
      "\n",
      "| x | x | 2\n",
      "|   | x | 1\n",
      "  1   2   \n"
     ]
    }
   ],
   "source": [
    "bs.draw(getSolutionFromResult(result))"
   ]
  },
  {
   "cell_type": "code",
   "execution_count": 23,
   "metadata": {},
   "outputs": [
    {
     "data": {
      "image/png": "[encoded data removed]",
      "text/plain": [
       "<Figure size 576x432 with 1 Axes>"
      ]
     },
     "metadata": {
      "needs_background": "light"
     },
     "output_type": "display_data"
    }
   ],
   "source": [
    "plotEnergyHistory(history, shift)"
   ]
  }
 ],
 "metadata": {
  "kernelspec": {
   "display_name": "Python 3",
   "language": "python",
   "name": "python3"
  },
  "language_info": {
   "codemirror_mode": {
    "name": "ipython",
    "version": 3
   },
   "file_extension": ".py",
   "mimetype": "text/x-python",
   "name": "python",
   "nbconvert_exporter": "python",
   "pygments_lexer": "ipython3",
   "version": "3.7.3"
  }
 },
 "nbformat": 4,
 "nbformat_minor": 2
}
