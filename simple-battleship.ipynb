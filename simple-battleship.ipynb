{
 "cells": [
  {
   "cell_type": "markdown",
   "metadata": {},
   "source": [
    "# Simple Battleship VQE\n",
    "\n",
    "This notebook demonstate how to use VQE to solve simple battleship puzzle using Qiskit"
   ]
  },
  {
   "cell_type": "markdown",
   "metadata": {},
   "source": [
    "## 1. Initialize Battleship"
   ]
  },
  {
   "cell_type": "code",
   "execution_count": 1,
   "metadata": {},
   "outputs": [],
   "source": [
    "from battleship import Battleship"
   ]
  },
  {
   "cell_type": "code",
   "execution_count": 2,
   "metadata": {},
   "outputs": [],
   "source": [
    "bs = Battleship([0, 1], [1, 0])"
   ]
  },
  {
   "cell_type": "markdown",
   "metadata": {},
   "source": [
    "## 2. Get Qubit Operations"
   ]
  },
  {
   "cell_type": "code",
   "execution_count": 3,
   "metadata": {},
   "outputs": [],
   "source": [
    "qubitOps, shift = bs.getQubitOps()"
   ]
  },
  {
   "cell_type": "code",
   "execution_count": 5,
   "metadata": {},
   "outputs": [
    {
     "name": "stdout",
     "output_type": "stream",
     "text": [
      "IIIZ\t-1.0\n",
      "IIZI\t-2.0\n",
      "IZII\t0.0\n",
      "ZIII\t-1.0\n",
      "IIZZ\t0.5\n",
      "ZZII\t0.5\n",
      "IZIZ\t0.5\n",
      "ZIZI\t0.5\n",
      "\n",
      "shift: 4.0\n"
     ]
    }
   ],
   "source": [
    "print(qubitOps.print_operators())\n",
    "print('shift:', shift)"
   ]
  },
  {
   "cell_type": "markdown",
   "metadata": {},
   "source": [
    "## 3. Init Qiskit VQE "
   ]
  },
  {
   "cell_type": "code",
   "execution_count": 6,
   "metadata": {},
   "outputs": [],
   "source": [
    "from qiskit.aqua.components.optimizers import SPSA\n",
    "from qiskit.aqua.components.variational_forms import RY\n",
    "from qiskit.aqua.algorithms import VQE"
   ]
  },
  {
   "cell_type": "code",
   "execution_count": 8,
   "metadata": {},
   "outputs": [],
   "source": [
    "spsa = SPSA(max_trials=300)\n",
    "ry = RY(qubitOps.num_qubits, depth=1, entanglement='linear')\n",
    "vqe = VQE(qubitOps, ry, spsa, 'paulis')"
   ]
  },
  {
   "cell_type": "markdown",
   "metadata": {},
   "source": [
    "## 4. Run Simulation"
   ]
  },
  {
   "cell_type": "code",
   "execution_count": 9,
   "metadata": {},
   "outputs": [],
   "source": [
    "from qiskit import BasicAer\n",
    "from qiskit.aqua import QuantumInstance"
   ]
  },
  {
   "cell_type": "code",
   "execution_count": 10,
   "metadata": {},
   "outputs": [
    {
     "name": "stdout",
     "output_type": "stream",
     "text": [
      "{'num_optimizer_evals': None, 'min_val': -3.98828125, 'opt_params': array([-2.89160011, -0.00758523, -0.42716559, -0.39597261,  2.89415858,\n",
      "       -0.02091298, -2.71848019,  0.39834578]), 'eval_time': 119.20098185539246, 'eval_count': 651, 'energy': -3.98828125, 'eigvals': array([-3.98828125]), 'min_vector': {'0100': 1020, '1000': 3, '1100': 1}, 'eigvecs': array([{'0100': 1020, '1000': 3, '1100': 1}], dtype=object)}\n"
     ]
    }
   ],
   "source": [
    "quantum_instance = QuantumInstance(BasicAer.get_backend('qasm_simulator'))\n",
    "result = vqe.run(quantum_instance)\n",
    "result"
   ]
  },
  {
   "cell_type": "markdown",
   "metadata": {},
   "source": [
    "## 5. Analyse the Result"
   ]
  },
  {
   "cell_type": "code",
   "execution_count": 11,
   "metadata": {},
   "outputs": [
    {
     "name": "stdout",
     "output_type": "stream",
     "text": [
      "solution: [{'0100': 1020, '1000': 3, '1100': 1}]\n",
      "energy: 0.01171875\n"
     ]
    }
   ],
   "source": [
    "print('solution:', result['eigvecs'])\n",
    "print('energy:', result['energy'] + shift)"
   ]
  },
  {
   "cell_type": "code",
   "execution_count": null,
   "metadata": {},
   "outputs": [],
   "source": []
  }
 ],
 "metadata": {
  "kernelspec": {
   "display_name": "Python 3",
   "language": "python",
   "name": "python3"
  },
  "language_info": {
   "codemirror_mode": {
    "name": "ipython",
    "version": 3
   },
   "file_extension": ".py",
   "mimetype": "text/x-python",
   "name": "python",
   "nbconvert_exporter": "python",
   "pygments_lexer": "ipython3",
   "version": "3.7.3"
  }
 },
 "nbformat": 4,
 "nbformat_minor": 2
}
